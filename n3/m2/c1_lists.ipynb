{
  "cells": [
    {
      "cell_type": "markdown",
      "metadata": {},
      "source": [
        "# Python Lists for Data Analysis\n",
        "\n",
        "This notebook explores **lists** in Python with a focus on **data analysis**.\n",
        "\n",
        "Topics covered:\n",
        "- Creation and basic operations\n",
        "- Iteration and alignment\n",
        "- List comprehensions\n",
        "- Advanced slicing and nesting\n",
        "- Data cleaning and transformation"
      ]
    },
    {
      "cell_type": "code",
      "execution_count": 1,
      "metadata": {},
      "outputs": [],
      "source": [
        "import numpy as np\n",
        "import pandas as pd\n",
        "\n",
        "# --------------------------------------------------------\n",
        "# Configuration constants (UPPER_CASE)\n",
        "# --------------------------------------------------------\n",
        "RANDOM_SEED = 42\n",
        "NUMBERS = [10, 20, 30, 40, 50]\n",
        "NAMES = [\"Alice\", \"Bob\", \"Charlie\", \"David\"]\n",
        "MATRIX = [[1, 2], [3, 4], [5, 6]]\n",
        "\n",
        "np.random.seed(RANDOM_SEED)"
      ]
    },
    {
      "cell_type": "markdown",
      "metadata": {},
      "source": [
        "## 1. Basic List Operations"
      ]
    },
    {
      "cell_type": "code",
      "execution_count": 2,
      "metadata": {},
      "outputs": [
        {
          "name": "stdout",
          "output_type": "stream",
          "text": [
            "Length of NUMBERS: 5\n",
            "First element: 10\n",
            "Last element: 50\n",
            "First three elements: [10, 20, 30]\n",
            "Every second element: [10, 30, 50]\n",
            "Modified list: [10, 15, 20, 40, 50, 60]\n"
          ]
        }
      ],
      "source": [
        "# Length and indexing\n",
        "print(\"Length of NUMBERS:\", len(NUMBERS))\n",
        "print(\"First element:\", NUMBERS[0])\n",
        "print(\"Last element:\", NUMBERS[-1])\n",
        "\n",
        "# Slicing\n",
        "print(\"First three elements:\", NUMBERS[:3])\n",
        "print(\"Every second element:\", NUMBERS[::2])\n",
        "\n",
        "# Adding and removing elements\n",
        "numbers_copy = NUMBERS.copy()\n",
        "numbers_copy.append(60)\n",
        "numbers_copy.insert(1, 15)\n",
        "numbers_copy.remove(30)\n",
        "print(\"Modified list:\", numbers_copy)"
      ]
    },
    {
      "cell_type": "markdown",
      "metadata": {},
      "source": [
        "## 2. Iterating Over Lists"
      ]
    },
    {
      "cell_type": "code",
      "execution_count": 3,
      "metadata": {},
      "outputs": [
        {
          "name": "stdout",
          "output_type": "stream",
          "text": [
            "Name: Alice\n",
            "Name: Bob\n",
            "Name: Charlie\n",
            "Name: David\n",
            "Index 0 -> Value 10\n",
            "Index 1 -> Value 20\n",
            "Index 2 -> Value 30\n",
            "Index 3 -> Value 40\n",
            "Index 4 -> Value 50\n"
          ]
        }
      ],
      "source": [
        "# Simple iteration\n",
        "for name in NAMES:\n",
        "    print(\"Name:\", name)\n",
        "\n",
        "# Enumerate for index-value pairs\n",
        "for idx, value in enumerate(NUMBERS):\n",
        "    print(f\"Index {idx} -> Value {value}\")"
      ]
    },
    {
      "cell_type": "markdown",
      "metadata": {},
      "source": [
        "## 3. Alignment and Zipping Lists"
      ]
    },
    {
      "cell_type": "code",
      "execution_count": 4,
      "metadata": {},
      "outputs": [
        {
          "name": "stdout",
          "output_type": "stream",
          "text": [
            "Alice -> 10\n",
            "Bob -> 20\n",
            "Charlie -> 30\n",
            "David -> 40\n"
          ]
        }
      ],
      "source": [
        "# Align two lists by index using zip\n",
        "for name, number in zip(NAMES, NUMBERS):\n",
        "    print(f\"{name} -> {number}\")"
      ]
    },
    {
      "cell_type": "markdown",
      "metadata": {},
      "source": [
        "## 4. List Comprehensions"
      ]
    },
    {
      "cell_type": "code",
      "execution_count": 5,
      "metadata": {},
      "outputs": [
        {
          "name": "stdout",
          "output_type": "stream",
          "text": [
            "Squared numbers: [100, 400, 900, 1600, 2500]\n",
            "Numbers > 25: [30, 40, 50]\n"
          ]
        }
      ],
      "source": [
        "# Create a new list of squared numbers\n",
        "squared = [x ** 2 for x in NUMBERS]\n",
        "print(\"Squared numbers:\", squared)\n",
        "\n",
        "# Filter elements greater than 25\n",
        "filtered = [x for x in NUMBERS if x > 25]\n",
        "print(\"Numbers > 25:\", filtered)"
      ]
    },
    {
      "cell_type": "markdown",
      "metadata": {},
      "source": [
        "## 5. Advanced Slicing and Nested Lists"
      ]
    },
    {
      "cell_type": "code",
      "execution_count": 6,
      "metadata": {},
      "outputs": [
        {
          "name": "stdout",
          "output_type": "stream",
          "text": [
            "Element in second row, second column: 4\n",
            "Flattened matrix: [1, 2, 3, 4, 5, 6]\n"
          ]
        }
      ],
      "source": [
        "# Accessing nested elements\n",
        "print(\"Element in second row, second column:\", MATRIX[1][1])\n",
        "\n",
        "# Flatten a matrix using comprehension\n",
        "flattened = [item for row in MATRIX for item in row]\n",
        "print(\"Flattened matrix:\", flattened)"
      ]
    },
    {
      "cell_type": "markdown",
      "metadata": {},
      "source": [
        "## 6. Data Cleaning with Lists"
      ]
    },
    {
      "cell_type": "code",
      "execution_count": 7,
      "metadata": {},
      "outputs": [
        {
          "name": "stdout",
          "output_type": "stream",
          "text": [
            "Clean names: ['Alice', 'Bob', 'Charlie', 'David']\n",
            "      Name  Score\n",
            "0    Alice     88\n",
            "1      Bob     78\n",
            "2  Charlie     64\n",
            "3    David     92\n"
          ]
        }
      ],
      "source": [
        "# Simulate raw string data with inconsistent formatting\n",
        "raw_names = [\"   alice  \", \"BOB\", \" charlie \", \"DAVID\"]\n",
        "\n",
        "# Clean and normalize names\n",
        "clean_names = [name.strip().title() for name in raw_names]\n",
        "print(\"Clean names:\", clean_names)\n",
        "\n",
        "# Convert to a DataFrame for further analysis\n",
        "df = pd.DataFrame({\"Name\": clean_names, \"Score\": np.random.randint(50, 100, size=len(clean_names))})\n",
        "print(df)"
      ]
    },
    {
      "cell_type": "markdown",
      "id": "7ae4ab02",
      "metadata": {},
      "source": [
        "## 7. Joining and Concatenating Lists"
      ]
    },
    {
      "cell_type": "code",
      "execution_count": 10,
      "id": "32834b91",
      "metadata": {},
      "outputs": [
        {
          "name": "stdout",
          "output_type": "stream",
          "text": [
            "Joined with + : [1, 2, 3, 4, 5, 6]\n",
            "Extended list : [10, 20, 30, 40]\n",
            "Merged with unpacking: [100, 200, 300, 400, 500]\n"
          ]
        }
      ],
      "source": [
        "# Using the + operator (creates a new list)\n",
        "NUMBERS_A = [1, 2, 3]\n",
        "NUMBERS_B = [4, 5, 6]\n",
        "joined_list = NUMBERS_A + NUMBERS_B\n",
        "print(\"Joined with + :\", joined_list)\n",
        "\n",
        "# Using extend() (in-place extension)\n",
        "NUMBERS_C = [10, 20]\n",
        "NUMBERS_D = [30, 40]\n",
        "NUMBERS_C.extend(NUMBERS_D)\n",
        "print(\"Extended list :\", NUMBERS_C)\n",
        "\n",
        "# Using unpacking (*) for merging multiple lists\n",
        "list_x = [100, 200]\n",
        "list_y = [300, 400]\n",
        "merged_list = [*list_x, *list_y, 500]\n",
        "print(\"Merged with unpacking:\", merged_list)"
      ]
    },
    {
      "cell_type": "markdown",
      "id": "f30885fc",
      "metadata": {},
      "source": [
        "## 8. Important Methods Not Previously Covered"
      ]
    },
    {
      "cell_type": "code",
      "execution_count": 9,
      "id": "b1fed9c0",
      "metadata": {},
      "outputs": [
        {
          "name": "stdout",
          "output_type": "stream",
          "text": [
            "After insert: [10, 20, 25, 30, 40, 50]\n",
            "After pop: [10, 20, 25, 40, 50] Removed: 30\n",
            "Occurrences of 20: 1\n",
            "Reversed list: [50, 40, 25, 20, 10]\n",
            "Copied list: [50, 40, 25, 20, 10]\n"
          ]
        }
      ],
      "source": [
        "SAMPLE = [10, 20, 30, 40, 50]\n",
        "\n",
        "# insert(index, value) - Insert without replacing\n",
        "SAMPLE.insert(2, 25)\n",
        "print(\"After insert:\", SAMPLE)\n",
        "\n",
        "# pop(index) - Remove and return an item (default is last)\n",
        "removed = SAMPLE.pop(3)\n",
        "print(\"After pop:\", SAMPLE, \"Removed:\", removed)\n",
        "\n",
        "# count(value) - Count occurrences\n",
        "count_20 = SAMPLE.count(20)\n",
        "print(\"Occurrences of 20:\", count_20)\n",
        "\n",
        "# reverse() - Reverse in place\n",
        "SAMPLE.reverse()\n",
        "print(\"Reversed list:\", SAMPLE)\n",
        "\n",
        "# copy() - Shallow copy\n",
        "copied_list = SAMPLE.copy()\n",
        "print(\"Copied list:\", copied_list)"
      ]
    },
    {
      "cell_type": "markdown",
      "id": "019c48c6",
      "metadata": {},
      "source": [
        "## 9. Advanced Techniques"
      ]
    },
    {
      "cell_type": "code",
      "execution_count": 11,
      "id": "8571949c",
      "metadata": {},
      "outputs": [
        {
          "name": "stdout",
          "output_type": "stream",
          "text": [
            "Even squares: [0, 4, 16, 36, 64, 100, 144, 196, 256, 324]\n",
            "Flattened matrix: [1, 2, 3, 4, 5, 6]\n",
            "Zipped pairs: [('Alice', 25), ('Bob', 30), ('Carol', 28)]\n",
            "Name 1: Alice\n",
            "Name 2: Bob\n",
            "Name 3: Carol\n"
          ]
        }
      ],
      "source": [
        "# List comprehensions with conditions\n",
        "even_squares = [x**2 for x in range(20) if x % 2 == 0]\n",
        "print(\"Even squares:\", even_squares)\n",
        "\n",
        "# Nested list comprehensions (matrix flattening)\n",
        "matrix = [[1, 2, 3], [4, 5, 6]]\n",
        "flattened = [item for row in matrix for item in row]\n",
        "print(\"Flattened matrix:\", flattened)\n",
        "\n",
        "# Using zip() to combine elements\n",
        "names = [\"Alice\", \"Bob\", \"Carol\"]\n",
        "ages = [25, 30, 28]\n",
        "paired = list(zip(names, ages))\n",
        "print(\"Zipped pairs:\", paired)\n",
        "\n",
        "# Using enumerate() for indexed iteration\n",
        "for idx, val in enumerate(names, start=1):\n",
        "    print(f\"Name {idx}: {val}\")"
      ]
    },
    {
      "cell_type": "markdown",
      "id": "165a9c64",
      "metadata": {},
      "source": [
        "## 10. Professional Tips"
      ]
    },
    {
      "cell_type": "code",
      "execution_count": 12,
      "id": "fa6e4b70",
      "metadata": {},
      "outputs": [
        {
          "name": "stdout",
          "output_type": "stream",
          "text": [
            "Filtered numbers (>15): [20, 30]\n",
            "Sorted by length: ['AI', 'data', 'python', 'analysis']\n",
            "Descending order: [9, 5, 3, 1]\n",
            "Unique values: [1, 2, 3, 4]\n",
            "First squared value from generator: 0\n"
          ]
        }
      ],
      "source": [
        "# Efficient filtering using filter() and lambda\n",
        "filtered_numbers = list(filter(lambda x: x > 15, [5, 10, 20, 30]))\n",
        "print(\"Filtered numbers (>15):\", filtered_numbers)\n",
        "\n",
        "# Sorting with custom key (sort by string length)\n",
        "words = [\"data\", \"analysis\", \"AI\", \"python\"]\n",
        "words.sort(key=len)\n",
        "print(\"Sorted by length:\", words)\n",
        "\n",
        "# Using sorted() to create a new sorted list\n",
        "descending_numbers = sorted([5, 1, 9, 3], reverse=True)\n",
        "print(\"Descending order:\", descending_numbers)\n",
        "\n",
        "# Remove duplicates using set, then convert back to list\n",
        "with_duplicates = [1, 2, 2, 3, 3, 3, 4]\n",
        "unique_values = list(set(with_duplicates))\n",
        "print(\"Unique values:\", unique_values)\n",
        "\n",
        "# Generator expressions for memory efficiency\n",
        "large_numbers = (x * x for x in range(10**6))\n",
        "print(\"First squared value from generator:\", next(large_numbers))"
      ]
    }
  ],
  "metadata": {
    "kernelspec": {
      "display_name": "data_analytics-QVmDZ0Kv",
      "language": "python",
      "name": "python3"
    },
    "language_info": {
      "codemirror_mode": {
        "name": "ipython",
        "version": 3
      },
      "file_extension": ".py",
      "mimetype": "text/x-python",
      "name": "python",
      "nbconvert_exporter": "python",
      "pygments_lexer": "ipython3",
      "version": "3.12.10"
    }
  },
  "nbformat": 4,
  "nbformat_minor": 5
}
