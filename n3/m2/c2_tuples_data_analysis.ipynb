{
  "cells": [
    {
      "cell_type": "markdown",
      "metadata": {},
      "source": [
        "# Tuples in Python for Data Analysis — Intermediate to Advanced\n",
        "\n",
        "This notebook focuses on practical and professional uses of **tuples** within data analysis workflows.\n",
        "\n",
        "Contents:\n",
        "- Tuples recap and immutability implications\n",
        "- Packing / unpacking in real data scenarios\n",
        "- Tuples as keys for grouping and aggregation\n",
        "- MultiIndex in pandas built from tuples\n",
        "- NamedTuple and structured records\n",
        "- Performance and memory considerations\n",
        "- Practical patterns: deduplication, sliding windows, caching\n",
        "- Advanced tips and when *not* to use tuples\n"
      ]
    },
    {
      "cell_type": "code",
      "execution_count": 3,
      "metadata": {},
      "outputs": [
        {
          "name": "stdout",
          "output_type": "stream",
          "text": [
            "Python version: 3.12.10\n"
          ]
        }
      ],
      "source": [
        "# Standard imports and configuration constants\n",
        "import sys\n",
        "import numpy as np\n",
        "import pandas as pd\n",
        "from collections import namedtuple, Counter\n",
        "from functools import lru_cache\n",
        "\n",
        "RANDOM_SEED = 42\n",
        "SAMPLE_N = 12\n",
        "np.random.seed(RANDOM_SEED)\n",
        "\n",
        "print('Python version:', sys.version.split()[0])\n"
      ]
    },
    {
      "cell_type": "markdown",
      "metadata": {},
      "source": [
        "## 1. Quick recap and immutability implications\n",
        "\n",
        "- Tuples are immutable ordered sequences: good for fixed-schema records.\n",
        "- They can contain mutable objects (e.g., lists) — the tuple reference is immutable, not necessarily the contents.\n",
        "- Tuples are hashable if all their elements are hashable, so they can be used as dictionary keys or set elements.\n"
      ]
    },
    {
      "cell_type": "code",
      "execution_count": 4,
      "metadata": {},
      "outputs": [
        {
          "name": "stdout",
          "output_type": "stream",
          "text": [
            "single: (1,)\n",
            "record: ('user_001', 'US', 34.5)\n",
            "nested before modification: (1, [2, 3], {'k': 'v'})\n",
            "nested after modification: (1, [2, 3, 99], {'k': 'v'})\n",
            "Immutable error: 'tuple' object does not support item assignment\n"
          ]
        }
      ],
      "source": [
        "# Basic tuple examples\n",
        "single = (1,)\n",
        "record = (\"user_001\", \"US\", 34.5)\n",
        "nested = (1, [2, 3], {\"k\": \"v\"})  # mutable element inside tuple\n",
        "\n",
        "print('single:', single)\n",
        "print('record:', record)\n",
        "print('nested before modification:', nested)\n",
        "nested[1].append(99)\n",
        "print('nested after modification:', nested)\n",
        "\n",
        "# Attempt to change tuple element (should raise TypeError)\n",
        "try:\n",
        "    record[0] = 'user_002'\n",
        "except TypeError as err:\n",
        "    print('Immutable error:', err)\n"
      ]
    },
    {
      "cell_type": "markdown",
      "metadata": {},
      "source": [
        "## 2. Packing / Unpacking in data pipelines\n",
        "\n",
        "- Unpacking is especially useful when iterating over rows or when functions return multiple values.\n",
        "- Use extended unpacking (`first, *rest, last`) to capture variable-length segments.\n"
      ]
    },
    {
      "cell_type": "code",
      "execution_count": 3,
      "metadata": {},
      "outputs": [
        {
          "name": "stdout",
          "output_type": "stream",
          "text": [
            "User id1: Alice (34) from NY\n",
            "User id2: Bob (28) from CA\n",
            "User id3: Carol (41) from TX\n",
            "min, max -> 1 9\n",
            "first: 0 middle: [1, 2, 3, 4] last: 5\n"
          ]
        }
      ],
      "source": [
        "# Simulate a row-wise CSV read that yields tuples\n",
        "rows = [\n",
        "    ('id1', 'Alice', 34, 'NY'),\n",
        "    ('id2', 'Bob', 28, 'CA'),\n",
        "    ('id3', 'Carol', 41, 'TX'),\n",
        "]\n",
        "\n",
        "for uid, name, age, state in rows:\n",
        "    print(f'User {uid}: {name} ({age}) from {state}')\n",
        "\n",
        "# Function returning multiple values as tuple\n",
        "def min_max(seq):\n",
        "    return (min(seq), max(seq))\n",
        "\n",
        "vals = [3, 7, 1, 9]\n",
        "low, high = min_max(vals)\n",
        "print('min, max ->', low, high)\n",
        "\n",
        "# Extended unpacking example\n",
        "a_tuple = (0, 1, 2, 3, 4, 5)\n",
        "first, *middle, last = a_tuple\n",
        "print('first:', first, 'middle:', middle, 'last:', last)\n"
      ]
    },
    {
      "cell_type": "markdown",
      "metadata": {},
      "source": [
        "## 3. Tuples as keys for grouping and aggregation\n",
        "\n",
        "- When records have a natural composite key (e.g., (country, year)), tuples provide a simple hashable key.\n",
        "- This is useful for dictionary-based aggregations and for building pandas MultiIndex structures.\n"
      ]
    },
    {
      "cell_type": "code",
      "execution_count": 4,
      "metadata": {},
      "outputs": [
        {
          "name": "stdout",
          "output_type": "stream",
          "text": [
            "Aggregated dict with tuple keys:\n",
            "('US', 2020) -> 150\n",
            "('US', 2021) -> 150\n",
            "('CA', 2020) -> 80\n",
            "('CA', 2021) -> 120\n",
            "\n",
            "Pandas DataFrame with MultiIndex:\n",
            "             sales\n",
            "region year       \n",
            "US     2020    150\n",
            "       2021    150\n",
            "CA     2020     80\n",
            "       2021    120\n"
          ]
        }
      ],
      "source": [
        "# Example: aggregate sales by (region, year) using tuples as keys\n",
        "sales_data = [\n",
        "    ('US', 2020, 100),\n",
        "    ('US', 2021, 150),\n",
        "    ('CA', 2020, 80),\n",
        "    ('US', 2020, 50),\n",
        "    ('CA', 2021, 120),\n",
        "]\n",
        "\n",
        "agg = {}\n",
        "for region, year, value in sales_data:\n",
        "    key = (region, year)\n",
        "    agg[key] = agg.get(key, 0) + value\n",
        "\n",
        "print('Aggregated dict with tuple keys:')\n",
        "for k, v in agg.items():\n",
        "    print(k, '->', v)\n",
        "\n",
        "# Convert to DataFrame with MultiIndex\n",
        "index = pd.MultiIndex.from_tuples(list(agg.keys()), names=['region', 'year'])\n",
        "df_agg = pd.DataFrame({'sales': list(agg.values())}, index=index)\n",
        "print('\\nPandas DataFrame with MultiIndex:')\n",
        "print(df_agg)\n"
      ]
    },
    {
      "cell_type": "markdown",
      "metadata": {},
      "source": [
        "## 4. MultiIndex operations (from tuples)\n",
        "\n",
        "- MultiIndex enables powerful slicing and reshaping operations in pandas.\n",
        "- Tuples are a natural representation for MultiIndex keys.\n"
      ]
    },
    {
      "cell_type": "code",
      "execution_count": 5,
      "metadata": {},
      "outputs": [
        {
          "name": "stdout",
          "output_type": "stream",
          "text": [
            "Full DataFrame:\n",
            "             sales\n",
            "region year       \n",
            "US     2020    150\n",
            "       2021    200\n",
            "CA     2020     80\n",
            "       2021    120\n",
            "\n",
            "Select region US:\n",
            "      sales\n",
            "year       \n",
            "2020    150\n",
            "2021    200\n",
            "\n",
            "Cross-section for year 2020:\n",
            "        sales\n",
            "region       \n",
            "US        150\n",
            "CA         80\n",
            "\n",
            "Unstacked (year as columns):\n",
            "       sales     \n",
            "year    2020 2021\n",
            "region           \n",
            "CA        80  120\n",
            "US       150  200\n"
          ]
        }
      ],
      "source": [
        "# Example DataFrame with MultiIndex built from tuples\n",
        "tuples = [('US', 2020), ('US', 2021), ('CA', 2020), ('CA', 2021)]\n",
        "data = [150, 200, 80, 120]\n",
        "mi = pd.MultiIndex.from_tuples(tuples, names=['region', 'year'])\n",
        "df = pd.DataFrame({'sales': data}, index=mi)\n",
        "\n",
        "print('Full DataFrame:')\n",
        "print(df)\n",
        "\n",
        "# Select by first level (region)\n",
        "print('\\nSelect region US:')\n",
        "print(df.loc['US'])\n",
        "\n",
        "# Cross-section (xs) by second level\n",
        "print('\\nCross-section for year 2020:')\n",
        "print(df.xs(2020, level='year'))\n",
        "\n",
        "# Unstack to reshape\n",
        "print('\\nUnstacked (year as columns):')\n",
        "print(df.unstack(level='year'))\n"
      ]
    },
    {
      "cell_type": "markdown",
      "metadata": {},
      "source": [
        "## 5. NamedTuple and Structured Records\n",
        "\n",
        "- `collections.namedtuple` and `typing.NamedTuple` provide tuple-like records with named fields — readable and still lightweight.\n",
        "- They convert easily to dictionaries or DataFrames for analysis.\n"
      ]
    },
    {
      "cell_type": "code",
      "execution_count": 6,
      "metadata": {},
      "outputs": [
        {
          "name": "stdout",
          "output_type": "stream",
          "text": [
            "First user: User(user_id='u1', country='US', age=34)\n",
            "Access by attribute: 34\n",
            "\n",
            "DataFrame from namedtuple list:\n",
            "  user_id country  age\n",
            "0      u1      US   34\n",
            "1      u2      CA   28\n",
            "2      u3      US   41\n",
            "\n",
            "Record NamedTuple: Record(id='r1', value=1.2)\n"
          ]
        }
      ],
      "source": [
        "# Using namedtuple for structured rows\n",
        "User = namedtuple('User', ['user_id', 'country', 'age'])\n",
        "users = [User('u1', 'US', 34), User('u2', 'CA', 28), User('u3', 'US', 41)]\n",
        "print('First user:', users[0])\n",
        "print('Access by attribute:', users[0].age)\n",
        "\n",
        "# Convert namedtuple list to DataFrame\n",
        "df_users = pd.DataFrame(users)\n",
        "print('\\nDataFrame from namedtuple list:')\n",
        "print(df_users)\n",
        "\n",
        "# typing.NamedTuple example (Python 3.6+)\n",
        "from typing import NamedTuple\n",
        "\n",
        "class Record(NamedTuple):\n",
        "    id: str\n",
        "    value: float\n",
        "\n",
        "recs = [Record('r1', 1.2), Record('r2', 3.4)]\n",
        "print('\\nRecord NamedTuple:', recs[0])\n"
      ]
    },
    {
      "cell_type": "markdown",
      "metadata": {},
      "source": [
        "## 6. Deduplication and Set Operations using tuples\n",
        "\n",
        "- Lists of lists are unhashable; convert inner lists to tuples to perform set-based deduplication efficiently.\n"
      ]
    },
    {
      "cell_type": "code",
      "execution_count": 7,
      "metadata": {},
      "outputs": [
        {
          "name": "stdout",
          "output_type": "stream",
          "text": [
            "Unique rows: [[2, 3], [1, 2], [3, 4]]\n",
            "Frequencies: Counter({(1, 2): 2, (2, 3): 1, (3, 4): 1})\n"
          ]
        }
      ],
      "source": [
        "# Deduplicate list-of-lists by converting to tuple\n",
        "rows = [[1, 2], [1, 2], [2, 3], [3, 4]]\n",
        "unique = list(map(list, set(tuple(r) for r in rows)))\n",
        "print('Unique rows:', unique)\n",
        "\n",
        "# Use Counter with tuple keys for frequency counts\n",
        "freq = Counter(tuple(r) for r in rows)\n",
        "print('Frequencies:', freq)\n"
      ]
    },
    {
      "cell_type": "markdown",
      "metadata": {},
      "source": [
        "## 7. Sliding windows (pairwise / n-wise) returning tuples\n",
        "\n",
        "- Useful for feature engineering in time series or sequential data (n-grams, rolling features).\n"
      ]
    },
    {
      "cell_type": "code",
      "execution_count": 8,
      "metadata": {},
      "outputs": [
        {
          "name": "stdout",
          "output_type": "stream",
          "text": [
            "Pairwise windows (as tuples):\n",
            "(10, 20)\n",
            "(20, 30)\n",
            "(30, 40)\n",
            "\n",
            "Tri-grams (tuples): [(10, 20, 30), (20, 30, 40)]\n"
          ]
        }
      ],
      "source": [
        "from itertools import islice\n",
        "\n",
        "def sliding_window(seq, n=2):\n",
        "    iters = [iter(seq[i:]) for i in range(n)]\n",
        "    return zip(*iters)\n",
        "\n",
        "data = [10, 20, 30, 40]\n",
        "print('Pairwise windows (as tuples):')\n",
        "for win in sliding_window(data, n=2):\n",
        "    print(win)\n",
        "\n",
        "# More flexible window using deque (memory efficient)\n",
        "from collections import deque\n",
        "def sliding(seq, n=3):\n",
        "    dq = deque(maxlen=n)\n",
        "    for item in seq:\n",
        "        dq.append(item)\n",
        "        if len(dq) == n:\n",
        "            yield tuple(dq)\n",
        "\n",
        "print('\\nTri-grams (tuples):', list(sliding(data, n=3)))\n"
      ]
    },
    {
      "cell_type": "markdown",
      "metadata": {},
      "source": [
        "## 8. Tuples, caching, and memoization\n",
        "\n",
        "- Functions with list arguments are not hashable; convert to tuple to use as cache keys.\n",
        "- Demonstration using `lru_cache` with tuple conversion."
      ]
    },
    {
      "cell_type": "code",
      "execution_count": 9,
      "metadata": {},
      "outputs": [
        {
          "name": "stdout",
          "output_type": "stream",
          "text": [
            "First call:\n",
            "computing for (1, 2, 3)\n",
            "3.0\n",
            "Second call (cached):\n",
            "3.0\n",
            "computing for (4, 5, 6)\n",
            "From list via tuple: 7.5\n"
          ]
        }
      ],
      "source": [
        "@lru_cache(maxsize=128)\n",
        "def expensive_operation(args_tuple):\n",
        "    # args_tuple must be a tuple of hashable items\n",
        "    print('computing for', args_tuple)\n",
        "    return sum(args_tuple) * 0.5\n",
        "\n",
        "print('First call:')\n",
        "print(expensive_operation((1, 2, 3)))\n",
        "print('Second call (cached):')\n",
        "print(expensive_operation((1, 2, 3)))\n",
        "\n",
        "# If you have a list, convert to tuple before caching\n",
        "lst = [4, 5, 6]\n",
        "print('From list via tuple:', expensive_operation(tuple(lst)))\n"
      ]
    },
    {
      "cell_type": "markdown",
      "metadata": {},
      "source": [
        "## 9. Memory and performance considerations\n",
        "\n",
        "- Tuples have a smaller memory footprint than lists for the same items (immutable overhead differs).\n",
        "- For large numeric collections, prefer NumPy arrays or pandas structures for vectorized operations.\n"
      ]
    },
    {
      "cell_type": "code",
      "execution_count": 16,
      "metadata": {},
      "outputs": [
        {
          "name": "stdout",
          "output_type": "stream",
          "text": [
            "size list: 80056\n",
            "size tuple: 80040\n",
            "list access time: 0.007001799996942282\n",
            "tuple access time: 0.009608699940145016\n"
          ]
        }
      ],
      "source": [
        "import sys\n",
        "LIST_SAMPLE = list(range(10000))\n",
        "TUPLE_SAMPLE = tuple(LIST_SAMPLE)\n",
        "print('size list:', sys.getsizeof(LIST_SAMPLE))\n",
        "print('size tuple:', sys.getsizeof(TUPLE_SAMPLE))\n",
        "\n",
        "# Timing element access (should be similar)\n",
        "import timeit\n",
        "list_access = timeit.timeit('LIST_SAMPLE[5000]', globals=globals(), number=100000)\n",
        "tuple_access = timeit.timeit('TUPLE_SAMPLE[5000]', globals=globals(), number=100000)\n",
        "print('list access time:', list_access)\n",
        "print('tuple access time:', tuple_access)\n"
      ]
    },
    {
      "cell_type": "markdown",
      "metadata": {},
      "source": [
        "## 10. When not to use tuples (guidance)\n",
        "\n",
        "- If you need to mutate contents frequently, use lists or numpy arrays.\n",
        "- For labeled data with many columns and heavy operations, prefer pandas DataFrame or named structures.\n",
        "- Tuples are best for small, fixed-size heterogeneous records, composite keys, and lightweight immutable records.\n"
      ]
    },
    {
      "cell_type": "code",
      "execution_count": 11,
      "metadata": {},
      "outputs": [
        {
          "name": "stdout",
          "output_type": "stream",
          "text": [
            "Grouped by composite key (tuple):\n",
            "key\n",
            "(region1, productA)    250\n",
            "(region1, productB)     80\n",
            "(region2, productA)     60\n",
            "Name: sales, dtype: int64\n",
            "\n",
            "MultiIndex DataFrame:\n",
            "                  sales\n",
            "region  product        \n",
            "region1 productA    250\n",
            "        productB     80\n",
            "region2 productA     60\n"
          ]
        }
      ],
      "source": [
        "# Final practical example: building a MultiIndex DataFrame from raw tuple records\n",
        "raw = [\n",
        "    ('region1', 'productA', 2020, 100),\n",
        "    ('region1', 'productA', 2021, 150),\n",
        "    ('region1', 'productB', 2020, 80),\n",
        "    ('region2', 'productA', 2020, 60),\n",
        "]\n",
        "# Create DataFrame\n",
        "df_raw = pd.DataFrame(raw, columns=['region', 'product', 'year', 'sales'])\n",
        "\n",
        "# Use tuples to group and pivot\n",
        "df_raw['key'] = list(zip(df_raw['region'], df_raw['product']))\n",
        "grouped = df_raw.groupby('key')['sales'].sum()\n",
        "print('Grouped by composite key (tuple):')\n",
        "print(grouped)\n",
        "\n",
        "# Convert grouping index (tuples) into MultiIndex DataFrame\n",
        "mi = pd.MultiIndex.from_tuples(grouped.index, names=['region', 'product'])\n",
        "df_grouped = pd.DataFrame({'sales': grouped.values}, index=mi)\n",
        "print('\\nMultiIndex DataFrame:')\n",
        "print(df_grouped)\n"
      ]
    },
    {
      "cell_type": "markdown",
      "metadata": {},
      "source": [
        "## References and professional tips\n",
        "- Use tuples for composite immutable keys (grouping, indexing).\n",
        "- Convert to numpy/pandas structures for heavy numeric workloads.\n",
        "- Prefer NamedTuple for readable small records that benefit from attribute access.\n",
        "- When serializing to JSON, convert tuples to lists or strings since JSON does not support tuple type explicitly.\n"
      ]
    }
  ],
  "metadata": {
    "kernelspec": {
      "display_name": "data_analytics-QVmDZ0Kv",
      "language": "python",
      "name": "python3"
    },
    "language_info": {
      "codemirror_mode": {
        "name": "ipython",
        "version": 3
      },
      "file_extension": ".py",
      "mimetype": "text/x-python",
      "name": "python",
      "nbconvert_exporter": "python",
      "pygments_lexer": "ipython3",
      "version": "3.12.10"
    }
  },
  "nbformat": 4,
  "nbformat_minor": 5
}
