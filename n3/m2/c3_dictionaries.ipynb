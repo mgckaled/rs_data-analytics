{
 "cells": [
  {
   "cell_type": "markdown",
   "id": "ff854fd0",
   "metadata": {},
   "source": [
    "\n",
    "# Advanced Python Dictionaries for Data Analysis\n",
    "This notebook explores **Python dictionaries** from intermediate to professional level, with a strong focus on **data analysis** workflows.\n",
    "\n",
    "Topics covered:\n",
    "- Core operations and key methods\n",
    "- Nested dictionaries\n",
    "- Advanced techniques and idioms\n",
    "- Professional tips for real-world data projects\n"
   ]
  },
  {
   "cell_type": "markdown",
   "id": "e3c52acc",
   "metadata": {},
   "source": [
    "## 1. Basic Dictionary Operations\n",
    "\n",
    "Dictionaries store key-value pairs and are essential for data manipulation."
   ]
  },
  {
   "cell_type": "code",
   "execution_count": null,
   "id": "821598f4",
   "metadata": {},
   "outputs": [
    {
     "name": "stdout",
     "output_type": "stream",
     "text": [
      "Initial dictionary: {'name': 'Alice', 'age': 30, 'city': 'New York'}\n",
      "Name: Alice\n",
      "Age: 30\n",
      "Updated dictionary: {'name': 'Alice', 'age': 31, 'city': 'New York', 'occupation': 'Data Scientist'}\n",
      "Removed city: New York\n",
      "After removal: {'name': 'Alice', 'age': 31, 'occupation': 'Data Scientist'}\n"
     ]
    }
   ],
   "source": [
    "# Creating dictionaries\n",
    "sample_dict = {'name': 'Alice', 'age': 30, 'city': 'New York'}\n",
    "print(\"Initial dictionary:\", sample_dict)\n",
    "\n",
    "# Accessing values\n",
    "print(\"Name:\", sample_dict['name'])\n",
    "print(\"Age:\", sample_dict.get('age'))\n",
    "\n",
    "# Adding or updating entries\n",
    "sample_dict['occupation'] = 'Data Scientist'\n",
    "sample_dict['age'] = 31\n",
    "print(\"Updated dictionary:\", sample_dict)\n",
    "\n",
    "# Removing entries\n",
    "removed_value = sample_dict.pop('city')\n",
    "print(\"Removed city:\", removed_value)\n",
    "print(\"After removal:\", sample_dict)\n"
   ]
  },
  {
   "cell_type": "markdown",
   "id": "46c5adb9",
   "metadata": {},
   "source": [
    "## 2. Important Methods for Data Analysis\n",
    "\n",
    "These methods simplify dictionary manipulations when dealing with complex data."
   ]
  },
  {
   "cell_type": "code",
   "execution_count": 1,
   "id": "745ab9c8",
   "metadata": {},
   "outputs": [
    {
     "name": "stdout",
     "output_type": "stream",
     "text": [
      "Keys: ['a', 'b', 'c']\n",
      "Values: [1, 2, 3]\n",
      "Items: [('a', 1), ('b', 2), ('c', 3)]\n",
      "With setdefault: {'a': 1, 'b': 2, 'c': 3, 'd': 4}\n",
      "After update: {'a': 1, 'b': 20, 'c': 3, 'd': 4, 'e': 5}\n",
      "Popitem removed (e: 5) -> {'a': 1, 'b': 20, 'c': 3, 'd': 4}\n"
     ]
    }
   ],
   "source": [
    "data = {'a': 1, 'b': 2, 'c': 3}\n",
    "\n",
    "# keys(), values(), items()\n",
    "print(\"Keys:\", list(data.keys()))\n",
    "print(\"Values:\", list(data.values()))\n",
    "print(\"Items:\", list(data.items()))\n",
    "\n",
    "# setdefault() - provide default value if key missing\n",
    "data.setdefault('d', 4)\n",
    "print(\"With setdefault:\", data)\n",
    "\n",
    "# update() - merge another dictionary\n",
    "new_data = {'b': 20, 'e': 5}\n",
    "data.update(new_data)\n",
    "print(\"After update:\", data)\n",
    "\n",
    "# popitem() - remove and return last inserted item\n",
    "key, value = data.popitem()\n",
    "print(f\"Popitem removed ({key}: {value}) ->\", data)\n"
   ]
  },
  {
   "cell_type": "markdown",
   "id": "72b4bec9",
   "metadata": {},
   "source": [
    "## 3. Nested Dictionaries\n",
    "\n",
    "Useful for hierarchical data such as JSON or grouped statistics."
   ]
  },
  {
   "cell_type": "code",
   "execution_count": null,
   "id": "c2ad28e5",
   "metadata": {},
   "outputs": [
    {
     "name": "stdout",
     "output_type": "stream",
     "text": [
      "Alice math score: 90\n",
      "Alice's average: 87.50\n",
      "Bob's average: 80.00\n"
     ]
    }
   ],
   "source": [
    "# Example: dataset with nested structure\n",
    "students = {\n",
    "    'Alice': {'math': 90, 'science': 85},\n",
    "    'Bob':   {'math': 78, 'science': 82}\n",
    "}\n",
    "\n",
    "# Access nested values\n",
    "print(\"Alice math score:\", students['Alice']['math'])\n",
    "\n",
    "# Iterating through nested data\n",
    "for name, scores in students.items(): \n",
    "    avg = sum(scores.values()) / len(scores)\n",
    "    print(f\"{name}'s average: {avg:.2f}\")\n"
   ]
  },
  {
   "cell_type": "markdown",
   "id": "30dfe57b",
   "metadata": {},
   "source": [
    "## 4. Dictionaries in Data Analysis\n",
    "\n",
    "Simulating a small dataset for analysis using dictionaries."
   ]
  },
  {
   "cell_type": "code",
   "execution_count": null,
   "id": "4da4581e",
   "metadata": {},
   "outputs": [
    {
     "name": "stdout",
     "output_type": "stream",
     "text": [
      "Average age: 27\n",
      "Max score: 92\n",
      "Row-oriented records: [{'names': 'Alice', 'ages': 25, 'scores': 88}, {'names': 'Bob', 'ages': 30, 'scores': 92}, {'names': 'Carol', 'ages': 27, 'scores': 79}]\n"
     ]
    }
   ],
   "source": [
    "# Example: column-based dataset\n",
    "dataset = {\n",
    "    'names': ['Alice', 'Bob', 'Carol'],\n",
    "    'ages': [25, 30, 27],\n",
    "    'scores': [88, 92, 79]\n",
    "}\n",
    "\n",
    "# Compute basic statistics\n",
    "average_age = sum(dataset['ages']) / len(dataset['ages'])\n",
    "max_score = max(dataset['scores'])\n",
    "print(f\"Average age: {average_age:.0f}\")\n",
    "print(\"Max score:\", max_score)\n",
    "\n",
    "# Convert to list of dicts for flexible processing\n",
    "records = [dict(zip(dataset.keys(), values))\n",
    "        for values in zip(*dataset.values())]\n",
    "print(\"Row-oriented records:\", records)"
   ]
  },
  {
   "cell_type": "markdown",
   "id": "74550a55",
   "metadata": {},
   "source": [
    "## 5. Advanced and Professional Techniques\n",
    "\n",
    "Including dictionary comprehensions and merging strategies."
   ]
  },
  {
   "cell_type": "code",
   "execution_count": null,
   "id": "fc11da5f",
   "metadata": {},
   "outputs": [
    {
     "name": "stdout",
     "output_type": "stream",
     "text": [
      "Squares: {0: 0, 1: 1, 2: 4, 3: 9, 4: 16}\n",
      "Filtered even squares: {0: 0, 2: 4, 4: 16}\n",
      "Merged with | : {'x': 1, 'y': 3, 'z': 4}\n",
      "Counter result: Counter({'blue': 3, 'red': 2, 'green': 1})\n",
      "Most common: [('blue', 3), ('red', 2)]\n"
     ]
    }
   ],
   "source": [
    "# Dictionary comprehension\n",
    "squares = {x: x**2 for x in range(5)}\n",
    "print(\"Squares:\", squares)\n",
    "\n",
    "# Filtering a dictionary\n",
    "filtered = {k: v for k, v in squares.items() if v % 2 == 0}\n",
    "print(\"Filtered even squares:\", filtered)\n",
    "\n",
    "# Merging multiple dictionaries (Python 3.9+)\n",
    "dict_a = {'x': 1, 'y': 2}\n",
    "dict_b = {'y': 3, 'z': 4}\n",
    "merged = dict_a | dict_b  # 'y' is overwritten\n",
    "print(\"Merged with | :\", merged)\n",
    "\n",
    "# Using collections.Counter for quick aggregations\n",
    "from collections import Counter\n",
    "data_points = ['red', 'blue', 'red', 'green', 'blue', 'blue']\n",
    "counts = Counter(data_points)\n",
    "print(\"Counter result:\", counts)\n",
    "print(\"Most common:\", counts.most_common(2))\n"
   ]
  },
  {
   "cell_type": "markdown",
   "id": "471e49fc",
   "metadata": {},
   "source": [
    "## 6. Professional Tips\n",
    "\n",
    "Best practices when using dictionaries in real projects."
   ]
  },
  {
   "cell_type": "code",
   "execution_count": null,
   "id": "2cb127c9",
   "metadata": {},
   "outputs": [
    {
     "name": "stdout",
     "output_type": "stream",
     "text": [
      "Grouped with defaultdict: {'NY': [100, 150], 'CA': [200]}\n",
      "Readonly config: {'threshold': 0.8, 'method': 'z-score'}\n",
      "Matrix with tuple keys: {(0, 0): 0, (0, 1): 1, (0, 2): 2, (1, 0): 1, (1, 1): 2, (1, 2): 3, (2, 0): 2, (2, 1): 3, (2, 2): 4}\n"
     ]
    }
   ],
   "source": [
    "# Using defaultdict to avoid key errors\n",
    "from collections import defaultdict\n",
    "\n",
    "grouped = defaultdict(list)\n",
    "records = [('NY', 100), ('CA', 200), ('NY', 150)]\n",
    "for state, value in records:\n",
    "    grouped[state].append(value)\n",
    "\n",
    "print(\"Grouped with defaultdict:\", dict(grouped))\n",
    "\n",
    "# Immutable dictionary (types.MappingProxyType)\n",
    "from types import MappingProxyType\n",
    "config = {'threshold': 0.8, 'method': 'z-score'}\n",
    "readonly_config = MappingProxyType(config)\n",
    "print(\"Readonly config:\", readonly_config)\n",
    "# readonly_config['threshold'] = 0.9  # Raises TypeError if uncommented\n",
    "\n",
    "# Memory and performance considerations\n",
    "# Use tuples as keys for composite lookups\n",
    "matrix_data = {}\n",
    "for i in range(3):\n",
    "    for j in range(3):\n",
    "        matrix_data[(i, j)] = i + j\n",
    "print(\"Matrix with tuple keys:\", matrix_data)\n"
   ]
  }
 ],
 "metadata": {
  "kernelspec": {
   "display_name": "data_analytics-QVmDZ0Kv",
   "language": "python",
   "name": "python3"
  },
  "language_info": {
   "codemirror_mode": {
    "name": "ipython",
    "version": 3
   },
   "file_extension": ".py",
   "mimetype": "text/x-python",
   "name": "python",
   "nbconvert_exporter": "python",
   "pygments_lexer": "ipython3",
   "version": "3.12.10"
  }
 },
 "nbformat": 4,
 "nbformat_minor": 5
}
