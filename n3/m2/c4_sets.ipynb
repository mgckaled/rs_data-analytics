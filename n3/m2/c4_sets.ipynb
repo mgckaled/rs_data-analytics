{
 "cells": [
  {
   "cell_type": "markdown",
   "id": "4c8a8911",
   "metadata": {},
   "source": [
    "\n",
    "# Advanced Python Sets for Data Analysis\n",
    "This notebook explores **Python sets** from intermediate to professional level, with a strong focus on **data analysis** workflows.\n",
    "\n",
    "Topics covered:\n",
    "- Core operations and key methods\n",
    "- Set algebra for data comparison\n",
    "- Advanced techniques and idioms\n",
    "- Professional tips for real-world data projects\n"
   ]
  },
  {
   "cell_type": "markdown",
   "id": "d6f46382",
   "metadata": {},
   "source": [
    "\n",
    "## Introduction to Sets\n",
    "A set is an **unordered collection of unique elements**.  \n",
    "Sets are particularly useful in data analysis for tasks like deduplication, membership tests, and set algebra operations.\n"
   ]
  },
  {
   "cell_type": "code",
   "execution_count": 1,
   "id": "75f99cf8",
   "metadata": {},
   "outputs": [
    {
     "name": "stdout",
     "output_type": "stream",
     "text": [
      "Unique set: {1, 2, 3, 4, 5}\n",
      "After add/discard: {1, 3, 4, 5, 6}\n",
      "Is 3 in set? True\n",
      "Is 10 not in set? True\n"
     ]
    }
   ],
   "source": [
    "# Creating sets\n",
    "numbers = {1, 2, 3, 4, 4, 5}\n",
    "print(\"Unique set:\", numbers)\n",
    "\n",
    "# Adding and removing elements\n",
    "numbers.add(6)\n",
    "numbers.discard(2)\n",
    "print(\"After add/discard:\", numbers)\n",
    "\n",
    "# Membership test\n",
    "print(\"Is 3 in set?\", 3 in numbers)\n",
    "print(\"Is 10 not in set?\", 10 not in numbers)"
   ]
  },
  {
   "cell_type": "markdown",
   "id": "1925f0b4",
   "metadata": {},
   "source": [
    "\n",
    "## Key Set Methods\n",
    "Sets provide a range of methods for modifying and analyzing data.\n"
   ]
  },
  {
   "cell_type": "code",
   "execution_count": 3,
   "id": "9dec4af8",
   "metadata": {},
   "outputs": [
    {
     "name": "stdout",
     "output_type": "stream",
     "text": [
      "Union: {1, 2, 3, 4, 5}\n",
      "Intersection: {3}\n",
      "Difference: {1, 2}\n",
      "Symmetric difference: {1, 2, 4, 5}\n",
      "After update: {1, 2, 3, 6, 7}\n"
     ]
    }
   ],
   "source": [
    "data = {1, 2, 3}\n",
    "other = {3, 4, 5}\n",
    "\n",
    "# union() - combine elements from both sets\n",
    "print(\"Union:\", data.union(other))\n",
    "\n",
    "# intersection() - elements common to both sets\n",
    "print(\"Intersection:\", data.intersection(other))\n",
    "\n",
    "# difference() - elements in data but not in other\n",
    "print(\"Difference:\", data.difference(other))\n",
    "\n",
    "# symmetric_difference() - elements in either set but not both\n",
    "print(\"Symmetric difference:\", data.symmetric_difference(other))\n",
    "\n",
    "# update() - in-place union\n",
    "data.update({6, 7})\n",
    "print(\"After update:\", data)"
   ]
  },
  {
   "cell_type": "markdown",
   "id": "8e0e8320",
   "metadata": {},
   "source": [
    "\n",
    "## Sets in Data Analysis\n",
    "Sets are powerful for comparing categories, cleaning duplicates, and performing quick lookups.\n"
   ]
  },
  {
   "cell_type": "code",
   "execution_count": 4,
   "id": "b08d9c92",
   "metadata": {},
   "outputs": [
    {
     "name": "stdout",
     "output_type": "stream",
     "text": [
      "Unique values: {10, 20, 30}\n",
      "Missing columns: {'City'}\n",
      "Extra columns: {'Country'}\n"
     ]
    }
   ],
   "source": [
    "# Deduplication example\n",
    "raw_values = [10, 20, 20, 30, 30, 30]\n",
    "unique_values = set(raw_values)\n",
    "print(\"Unique values:\", unique_values)\n",
    "\n",
    "# Category comparison\n",
    "pandas_cols = {'Name', 'Age', 'Score', 'City'}\n",
    "dataset_cols = {'Name', 'Age', 'Score', 'Country'}\n",
    "\n",
    "missing_cols = pandas_cols.difference(dataset_cols)\n",
    "extra_cols = dataset_cols.difference(pandas_cols)\n",
    "\n",
    "print(\"Missing columns:\", missing_cols)\n",
    "print(\"Extra columns:\", extra_cols)"
   ]
  },
  {
   "cell_type": "markdown",
   "id": "6b7d7655",
   "metadata": {},
   "source": [
    "\n",
    "## Advanced Techniques\n",
    "Using sets for high-performance operations and data transformations.\n"
   ]
  },
  {
   "cell_type": "code",
   "execution_count": null,
   "id": "8bc05fa9",
   "metadata": {},
   "outputs": [
    {
     "name": "stdout",
     "output_type": "stream",
     "text": [
      "Even squares: {0, 64, 4, 36, 16}\n",
      "Frozen set union: frozenset({1, 2, 3, 4, 5})\n",
      "Fast membership check: True\n"
     ]
    }
   ],
   "source": [
    "# Set comprehension\n",
    "even_squares = {x**2 for x in range(10) if x % 2 == 0}\n",
    "print(\"Even squares:\", even_squares)\n",
    "\n",
    "# Frozen sets - immutable sets useful as dictionary keys\n",
    "frozen_a = frozenset([1, 2, 3])\n",
    "frozen_b = frozenset([3, 4, 5])\n",
    "print(\"Frozen set union:\", frozen_a | frozen_b)\n",
    "\n",
    "# Using sets for fast membership in large datasets\n",
    "large_list = list(range(10**6))\n",
    "large_set = set(large_list)\n",
    "print(\"Fast membership check:\", 999999 in large_set)"
   ]
  },
  {
   "cell_type": "markdown",
   "id": "a698cee5",
   "metadata": {},
   "source": [
    "\n",
    "## Professional Tips\n",
    "- Use sets when you need **fast membership tests** (O(1) average time complexity).\n",
    "- For immutable operations where the set must be a key in a dictionary, use **frozenset**.\n",
    "- Leverage set operations to simplify logic when comparing large categorical datasets.\n"
   ]
  }
 ],
 "metadata": {
  "kernelspec": {
   "display_name": "data_analytics-QVmDZ0Kv",
   "language": "python",
   "name": "python3"
  },
  "language_info": {
   "codemirror_mode": {
    "name": "ipython",
    "version": 3
   },
   "file_extension": ".py",
   "mimetype": "text/x-python",
   "name": "python",
   "nbconvert_exporter": "python",
   "pygments_lexer": "ipython3",
   "version": "3.12.10"
  }
 },
 "nbformat": 4,
 "nbformat_minor": 5
}
