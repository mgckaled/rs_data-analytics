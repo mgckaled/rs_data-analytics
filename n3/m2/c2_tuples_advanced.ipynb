{
  "cells": [
    {
      "cell_type": "markdown",
      "metadata": {},
      "source": [
        "# Tuples in Python – Intermediate to Advanced Guide\n",
        "\n",
        "This notebook provides an in-depth exploration of Python **tuples**, covering:\n",
        "- Intermediate concepts\n",
        "- Advanced techniques\n",
        "- Professional tips for data analysis and software engineering\n",
        "\n",
        "Tuples are immutable, ordered sequences often used to store heterogeneous data or fixed collections of items."
      ]
    },
    {
      "cell_type": "code",
      "execution_count": 1,
      "metadata": {},
      "outputs": [
        {
          "name": "stdout",
          "output_type": "stream",
          "text": [
            "Empty tuple: ()\n",
            "Single element tuple: (42,)\n",
            "Mixed tuple: (1, 'data', 3.14, True)\n",
            "First element: 1\n",
            "Last element: True\n",
            "Length: 4\n"
          ]
        }
      ],
      "source": [
        "### Basic Creation and Properties\n",
        "# Tuples can contain heterogeneous data and are immutable.\n",
        "empty_tuple = ()\n",
        "single_element = (42,)  # Note the trailing comma for single-element tuples\n",
        "mixed_tuple = (1, 'data', 3.14, True)\n",
        "\n",
        "print('Empty tuple:', empty_tuple)\n",
        "print('Single element tuple:', single_element)\n",
        "print('Mixed tuple:', mixed_tuple)\n",
        "\n",
        "# Accessing elements\n",
        "print('First element:', mixed_tuple[0])\n",
        "print('Last element:', mixed_tuple[-1])\n",
        "\n",
        "# Length of a tuple\n",
        "print('Length:', len(mixed_tuple))"
      ]
    },
    {
      "cell_type": "markdown",
      "metadata": {},
      "source": [
        "## Tuple Packing and Unpacking\n",
        "Tuples allow packing multiple values and unpacking them into variables, which is common in data analysis."
      ]
    },
    {
      "cell_type": "code",
      "execution_count": 2,
      "metadata": {},
      "outputs": [
        {
          "name": "stdout",
          "output_type": "stream",
          "text": [
            "Packed tuple: (10, 20, 30)\n",
            "Unpacked values: 10 20 30\n",
            "First: 1 Middle: [2, 3, 4] Last: 5\n"
          ]
        }
      ],
      "source": [
        "# Packing\n",
        "packed = 10, 20, 30  # Parentheses are optional\n",
        "print('Packed tuple:', packed)\n",
        "\n",
        "# Unpacking\n",
        "a, b, c = packed\n",
        "print('Unpacked values:', a, b, c)\n",
        "\n",
        "# Extended unpacking (Python 3.x)\n",
        "first, *middle, last = (1, 2, 3, 4, 5)\n",
        "print('First:', first, 'Middle:', middle, 'Last:', last)"
      ]
    },
    {
      "cell_type": "markdown",
      "metadata": {},
      "source": [
        "## Immutability and Its Implications\n",
        "Tuples cannot be modified after creation, but they can contain **mutable objects**."
      ]
    },
    {
      "cell_type": "code",
      "execution_count": 3,
      "metadata": {},
      "outputs": [
        {
          "name": "stdout",
          "output_type": "stream",
          "text": [
            "Original nested tuple: (1, [2, 3], 4)\n",
            "Modified nested tuple: (1, [2, 3, 99], 4)\n",
            "Error: 'tuple' object does not support item assignment\n"
          ]
        }
      ],
      "source": [
        "nested = (1, [2, 3], 4)\n",
        "print('Original nested tuple:', nested)\n",
        "\n",
        "# Attempting to modify the list inside the tuple is allowed\n",
        "nested[1].append(99)\n",
        "print('Modified nested tuple:', nested)\n",
        "\n",
        "# But reassigning an element raises an error\n",
        "try:\n",
        "    nested[0] = 100\n",
        "except TypeError as e:\n",
        "    print('Error:', e)"
      ]
    },
    {
      "cell_type": "markdown",
      "metadata": {},
      "source": [
        "## Advanced Techniques\n",
        "- Using tuples as dictionary keys (hashable)\n",
        "- Returning multiple values from functions\n",
        "- Named tuples for readability"
      ]
    },
    {
      "cell_type": "code",
      "execution_count": 4,
      "metadata": {},
      "outputs": [
        {
          "name": "stdout",
          "output_type": "stream",
          "text": [
            "Locations dictionary: {(35.6895, 139.6917): 'Tokyo'}\n",
            "Min: 1 Max: 9\n",
            "Named tuple: Point(x=10, y=20)\n",
            "Access by attribute: 10 20\n"
          ]
        }
      ],
      "source": [
        "# Tuples as dictionary keys\n",
        "locations = {}\n",
        "coord = (35.6895, 139.6917)  # Tokyo coordinates\n",
        "locations[coord] = 'Tokyo'\n",
        "print('Locations dictionary:', locations)\n",
        "\n",
        "# Functions returning multiple values\n",
        "def min_max(values):\n",
        "    return min(values), max(values)\n",
        "\n",
        "numbers = [5, 2, 9, 1]\n",
        "min_val, max_val = min_max(numbers)\n",
        "print('Min:', min_val, 'Max:', max_val)\n",
        "\n",
        "# Named tuples for structured data\n",
        "from collections import namedtuple\n",
        "Point = namedtuple('Point', 'x y')\n",
        "p1 = Point(10, 20)\n",
        "print('Named tuple:', p1)\n",
        "print('Access by attribute:', p1.x, p1.y)"
      ]
    },
    {
      "cell_type": "markdown",
      "metadata": {},
      "source": [
        "## Professional Tips\n",
        "- Use tuples when you need **hashable** and immutable data.\n",
        "- Prefer tuples over lists for fixed collections to improve code clarity and performance.\n",
        "- Combine with list comprehensions or generator expressions for efficient transformations."
      ]
    },
    {
      "cell_type": "code",
      "execution_count": 9,
      "metadata": {},
      "outputs": [
        {
          "name": "stdout",
          "output_type": "stream",
          "text": [
            "Size of list (bytes): 8856\n",
            "Size of tuple (bytes): 8040\n",
            "Conversion successful: <class 'list'> <class 'tuple'>\n"
          ]
        }
      ],
      "source": [
        "# Performance comparison (lists vs tuples)\n",
        "import sys\n",
        "list_obj = [x for x in range(1000)]\n",
        "tuple_obj = tuple(range(1000))\n",
        "\n",
        "print('Size of list (bytes):', sys.getsizeof(list_obj))\n",
        "print('Size of tuple (bytes):', sys.getsizeof(tuple_obj))\n",
        "\n",
        "# Conversion between list and tuple\n",
        "converted_list = list(tuple_obj)\n",
        "converted_tuple = tuple(list_obj)\n",
        "print('Conversion successful:', type(converted_list), type(converted_tuple))"
      ]
    }
  ],
  "metadata": {
    "kernelspec": {
      "display_name": "data_analytics-QVmDZ0Kv",
      "language": "python",
      "name": "python3"
    },
    "language_info": {
      "codemirror_mode": {
        "name": "ipython",
        "version": 3
      },
      "file_extension": ".py",
      "mimetype": "text/x-python",
      "name": "python",
      "nbconvert_exporter": "python",
      "pygments_lexer": "ipython3",
      "version": "3.12.10"
    }
  },
  "nbformat": 4,
  "nbformat_minor": 5
}
